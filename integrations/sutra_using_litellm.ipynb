{
  "cells": [
    {
      "cell_type": "markdown",
      "metadata": {
        "id": "9i36Uy2miiM6"
      },
      "source": [
        "<div style=\"display: flex; align-items: center; gap: 40px;\">\n",
        "\n",
        "<img src=\"https://play-lh.googleusercontent.com/_O9p4Z4yucA2NLmZBu9mTJCuBwXeT9NcbtrDN6I8gKlkIPRySV0adOmbyipjSj9Gew\" width=\"130\">\n",
        "<img src=\"https://pbs.twimg.com/profile_images/1783589223406415872/3KMxGGrF_400x400.jpg\" width=\"130\">\n",
        "\n",
        "\n",
        "\n",
        "\n",
        "\n",
        "\n",
        "<div>\n",
        "  <h2>SUTRA by TWO Platforms </h2>\n",
        "  <p>SUTRA is a family of large multi-lingual language (LMLMs) models pioneered by Two Platforms. SUTRA’s dual-transformer approach extends the power of both MoE and Dense AI language model architectures, delivering cost-efficient multilingual capabilities for over 50+ languages. It powers scalable AI applications for conversation, search, and advanced reasoning, ensuring high-performance across diverse languages, domains and applications.</p>\n",
        "\n",
        "  <h2>LiteLLM 🚅</h2>\n",
        "    <p>LiteLLM simplifies access to 100+ large language models (LLMs) with a unified API. It enables easy model integration, spend tracking, rate-limiting, fallbacks, and observability—helping developers manage LLMs like OpenAI, Anthropic, Groq, Cohere, Google, and more from a single interface.</p>\n",
        "  </div>\n",
        "</div>\n",
        "\n"
      ]
    },
    {
      "cell_type": "markdown",
      "metadata": {},
      "source": [
        "[![Open In Colab](https://colab.research.google.com/assets/colab-badge.svg)](https://colab.research.google.com/drive/1GXzlWhayCSxjdvLXHvO9otT7LW3tuNvk?usp=sharing)"
      ]
    },
    {
      "cell_type": "markdown",
      "metadata": {
        "id": "2ihV9u0GjyoE"
      },
      "source": [
        "## Get Your API Keys\n",
        "\n",
        "Before you begin, make sure you have:\n",
        "\n",
        "1. A SUTRA API key (Get yours at [TWO AI's SUTRA API page](https://www.two.ai/sutra/api))\n",
        "2. Basic familiarity with Python and Jupyter notebooks\n",
        "\n",
        "This notebook is designed to run in Google Colab, so no local Python installation is required."
      ]
    },
    {
      "cell_type": "markdown",
      "metadata": {
        "id": "O3ENRkyQj3Ql"
      },
      "source": [
        "###Sutra using LiteLLM 🚅"
      ]
    },
    {
      "cell_type": "markdown",
      "metadata": {
        "id": "qb1D4-IgkDJ6"
      },
      "source": [
        "###Install Requirements"
      ]
    },
    {
      "cell_type": "code",
      "execution_count": null,
      "metadata": {
        "id": "wr9gUotyihbT"
      },
      "outputs": [],
      "source": [
        "# Install required packages\n",
        "!pip install litellm"
      ]
    },
    {
      "cell_type": "markdown",
      "metadata": {
        "id": "9UiR-Xy2kU0F"
      },
      "source": [
        "###Setup API Keys"
      ]
    },
    {
      "cell_type": "code",
      "execution_count": null,
      "metadata": {
        "id": "PK09HAeAkXqn"
      },
      "outputs": [],
      "source": [
        "import os\n",
        "from google.colab import userdata\n",
        "\n",
        "# Set the API key from Colab secrets\n",
        "os.environ[\"SUTRA_API_KEY\"] = userdata.get(\"SUTRA_API_KEY\")"
      ]
    },
    {
      "cell_type": "markdown",
      "metadata": {
        "id": "BmSHlwQBkcKE"
      },
      "source": [
        "###Initialize Sutra Model via LiteLLM 🚅:"
      ]
    },
    {
      "cell_type": "code",
      "execution_count": null,
      "metadata": {
        "colab": {
          "base_uri": "https://localhost:8080/"
        },
        "id": "rN_VubTWkoJq",
        "outputId": "5e603169-69ad-4158-828e-8b8baf575524"
      },
      "outputs": [
        {
          "name": "stdout",
          "output_type": "stream",
          "text": [
            "मंगल ग्रह, जिसे अंग्रेजी में Mars कहा जाता है, सौर मंडल का चौथा ग्रह है और यह पृथ्वी से निकटतम स्थित ग्रहों में से एक है। इसका नाम रोमन युद्ध के देवता मंगल के नाम पर रखा गया है। मंगल ग्रह की सतह पर लाल रंग की मिट्टी और ऑक्साइड की उपस्थिति के कारण इसे \"लाल ग्रह\" के नाम से भी जाना जाता है। इसका व्यास लगभग 6,779 किमी है, जो पृथ्वी के व्यास का लगभग आधा है।\n",
            "\n",
            "मंगल का वातावरण पतला है, जिसमें मुख्य रूप से कार्बन डाइऑक्साइड (95.3%) है, साथ ही नाइट्रोजन (2.7%) और आर्गन (1.6%) भी शामिल हैं। इसका वायुमंडल अत्यधिक बर्फीला और ठंडा है, जहां औसत तापमान लगभग -80 डिग्री फारेनहाइट (-62 डिग्री सेल्सियस) होता है। इसके अलावा, मंगल पर ध्रुवीय बर्फ की टोपी भी पाई जाती है, जो गर्मियों में थोड़ी सिकुड़ती है और सर्दियों में फिर से विस्तृत होती है।\n",
            "\n",
            "मंगल ग्रह पर कई महत्वपूर्ण भूगर्भीय विशेषताएँ पाई जाती हैं, जैसे कि ओलंपस मॉन्स, जो सौर मंडल का सबसे बड़ा ज्वालामुखी है, और वैलेस मेरिनेरिस, जो एक विशाल घाटी प्रणाली है। ये संरचनाएँ इस बात का संकेत देती हैं कि मंगल पर पहले जल और ज्वालामुखीय गतिविधि हो सकती थी। वैज्ञानिकों का मानना है कि मंगल पर कभी पानी की मौजूदगी रही होगी, जिससे जीवन के लिए संभावनाएँ बनी रह सकती हैं।\n",
            "\n",
            "वर्तमान में, मंगल ग्रह पर कई अंतरिक्ष मिशन चल रहे हैं, जिनमें रोवर प्रोजेक्ट्स जैसे कि क्यूरियोसिटी और पर्सेवेरेंस शामिल हैं। ये रोवर मंगल की सतह पर विभिन्न परीक्षण कर रहे हैं, जैसे कि मिट्टी और वातावरण का अध्ययन करना, जिससे यह पता लगाया जा सके कि क्या मंगल ग्रह पर कभी जीवन था या नहीं। इसके अलावा, भविष्य के मानव मिशनों के लिए आवश्यक जानकारी भी इकट्ठा की जा रही है।\n",
            "\n",
            "वैज्ञानिक समुदाय मंगल ग्रह के बारे में गहन अध्ययन कर रहा है, क्योंकि यह न केवल हमें हमारी सौर मंडल\n"
          ]
        }
      ],
      "source": [
        "import os\n",
        "import litellm\n",
        "\n",
        "# Environment variable for better security\n",
        "api_key = os.environ.get(\"SUTRA_API_KEY\")\n",
        "\n",
        "# Call the Sutra LLM via LiteLLM\n",
        "response = litellm.completion(\n",
        "    model=\"openai/sutra-v2\",\n",
        "    api_key=api_key,\n",
        "    api_base=\"https://api.two.ai/v2\",\n",
        "    messages=[\n",
        "        {\n",
        "            \"role\": \"user\",\n",
        "            \"content\": \"मुझे मंगल ग्रह के बारे में 5 पैराग्राफ दीजिए\"\n",
        "        }\n",
        "    ],\n",
        "    temperature=0.7,\n",
        "    max_tokens=500\n",
        ")\n",
        "\n",
        "print(response['choices'][0]['message']['content'])"
      ]
    },
    {
      "cell_type": "markdown",
      "metadata": {
        "id": "uMd7W3-jljhb"
      },
      "source": [
        "###Example 1: Streaming Response :"
      ]
    },
    {
      "cell_type": "code",
      "execution_count": null,
      "metadata": {
        "colab": {
          "base_uri": "https://localhost:8080/"
        },
        "id": "FEInYJyXlp8T",
        "outputId": "15938548-2468-4169-a71c-b12e9d615309"
      },
      "outputs": [
        {
          "name": "stdout",
          "output_type": "stream",
          "text": [
            "Quantum computing is a type of computing that uses the principles of quantum mechanics to process information in a fundamentally different way than traditional computers. \n",
            "\n",
            "1. **Bits vs. Qubits**: Traditional computers use bits as the smallest unit of information, which can be either 0 or 1. Quantum computers use quantum bits, or qubits, which can represent both 0 and 1 at the same time due to a property called superposition. This allows quantum computers to process a vast amount of information simultaneously.\n",
            "\n",
            "2. **Entanglement**: Qubits can also be entangled, meaning the state of one qubit is directly related to the state of another, no matter the distance between them. This property can create complex correlations and enable faster computations.\n",
            "\n",
            "3. **Parallelism**: Because of superposition and entanglement, quantum computers can perform multiple calculations at once, making them potentially much more powerful for certain tasks, like factoring large numbers or simulating quantum systems.\n",
            "\n",
            "Overall, while classical computers follow linear processing paths, quantum computers can explore many possibilities at once, which opens up new avenues for solving complex problems more efficiently."
          ]
        }
      ],
      "source": [
        "response = litellm.completion(\n",
        "    model=\"openai/sutra-v2\",\n",
        "    api_key=api_key,\n",
        "    api_base=\"https://api.two.ai/v2\",\n",
        "    messages=[\n",
        "        {\n",
        "            \"role\": \"user\",\n",
        "            \"content\": \"Explain quantum computing in simple terms\"\n",
        "        }\n",
        "    ],\n",
        "    temperature=0.8,\n",
        "    max_tokens=1024,\n",
        "    stream=True\n",
        ")\n",
        "\n",
        "for chunk in response:\n",
        "    if chunk.choices[0].delta.content is not None:\n",
        "        print(chunk.choices[0].delta.content, end='')"
      ]
    },
    {
      "cell_type": "markdown",
      "metadata": {
        "id": "TljQpjoamM4l"
      },
      "source": [
        "### Example 2: Code Generation :"
      ]
    },
    {
      "cell_type": "code",
      "execution_count": null,
      "metadata": {
        "colab": {
          "base_uri": "https://localhost:8080/"
        },
        "id": "0nEE9QXPmrrM",
        "outputId": "14c6fbbc-a477-492d-c320-4cd90f675a72"
      },
      "outputs": [
        {
          "name": "stdout",
          "output_type": "stream",
          "text": [
            "Here's a Python function that calculates the factorial of a number using recursion:\n",
            "\n",
            "```python\n",
            "def factorial(n):\n",
            "    \"\"\"Return the factorial of a given number n.\"\"\"\n",
            "    if n < 0:\n",
            "        raise ValueError(\"Factorial is not defined for negative numbers.\")\n",
            "    elif n == 0 or n == 1:\n",
            "        return 1\n",
            "    else:\n",
            "        return n * factorial(n - 1)\n",
            "\n",
            "# Example usage:\n",
            "try:\n",
            "    number = 5\n",
            "    result = factorial(number)\n",
            "    print(f\"The factorial of {number} is {result}.\")\n",
            "except ValueError as e:\n",
            "    print(e)\n",
            "```\n",
            "\n",
            "This function works as follows:\n",
            "- It checks if the input number `n` is negative and raises an error since factorials for negative numbers are not defined.\n",
            "- If `n` is 0 or 1, it returns 1, as the factorial of both 0 and 1 is 1.\n",
            "- For other positive integers, it recursively calls itself with `n - 1` until it reaches the base case.\n"
          ]
        }
      ],
      "source": [
        "response = litellm.completion(\n",
        "    model=\"openai/sutra-v2\",\n",
        "    api_key=api_key,\n",
        "    api_base=\"https://api.two.ai/v2\",\n",
        "    messages=[\n",
        "        {\n",
        "            \"role\": \"user\",\n",
        "            \"content\": \"Write a Python function to find the factorial of a number using recursion\"\n",
        "        }\n",
        "    ],\n",
        "    temperature=0.5,\n",
        "    max_tokens=700\n",
        ")\n",
        "\n",
        "print(response['choices'][0]['message']['content'])"
      ]
    },
    {
      "cell_type": "markdown",
      "metadata": {
        "id": "UqSd4oBzpqAu"
      },
      "source": [
        "### Example 3: Multilingual Support :"
      ]
    },
    {
      "cell_type": "code",
      "execution_count": null,
      "metadata": {
        "colab": {
          "base_uri": "https://localhost:8080/"
        },
        "id": "cl64p6qIppc8",
        "outputId": "39590869-430b-42ff-da3c-871108aab691"
      },
      "outputs": [
        {
          "name": "stdout",
          "output_type": "stream",
          "text": [
            "\n",
            "--- Hindi ---\n",
            "भारतीय स्वतंत्रता संग्राम एक महत्वपूर्ण ऐतिहासिक घटना है, जो ब्रिटिश साम्राज्य के खिलाफ भारतीय जनता के संघर्ष को दर्शाता है। यह आंदोलन 1857 में प्रारंभ हुआ और 1947 में भारत की स्वतंत्रता के साथ समाप्त हुआ। इस संघर्ष के कई चरण और महत्वपूर्ण घटनाएँ थीं:\n",
            "\n",
            "1. **1857 का विद्रोह**: इसे भारतीय स्वतंत्रता संग्राम की पहली बड़ी क्रांति माना जाता है। इस विद्रोह का मुख्य कारण ब्रिटिश राज द्वारा भारतीय सैनिकों के प्रति भेदभाव और धार्मिक संवेदनाओं का अपमान था। हालांकि यह विद्रोह असफल रहा, लेकिन इसने भारतीयों में स्वतंत्रता के प्रति जागरूकता उत्पन्न की।\n",
            "\n",
            "2. **भारतीय राष्ट्रीय कांग्रेस का गठन (1885)**: कांग्रेस का गठन भारतीयों के राजनीतिक अधिकारों की रक्षा के लिए किया गया था। धीरे-धीरे, यह संगठन स्वतंत्रता संग्राम का प्रमुख मंच बन गया।\n",
            "\n",
            "3. **मोहनदास गांधी का आगमन**: महात्मा गांधी ने 1915 में भारत लौटकर सत्याग्रह और अहिंसा के सिद्धांतों के माध्यम से स्वतंत्रता संग्राम को नई दिशा दी। उन्होंने असहमति के शांतिपूर्ण तरीकों को अपनाया और बड़े पैमाने पर जनसमर्थन प्राप्त किया।\n",
            "\n",
            "4. **महात्मा गांधी द्वारा चलाए गए आंदोलन**:\n",
            "   - **नमक सत्याग्रह (1930)**: गांधी ने नमक कर के खिलाफ आंदोलन किया, जिसमें उन्होंने दांडी मार्च किया।\n",
            "   - **भारत छोड़ो आंदोलन (1942)**: यह आंदोलन ब्रिटिश शासन के खिलाफ सबसे बड़ा जन आंदोलन था, जिसमें \"बाहर जाओ\" का नारा दिया गया।\n",
            "\n",
            "5. **विभाजन और स्वतंत्रता (1947)**: भारतीय स्वतंत्रता संग्राम के परिणामस्वरूप 15 अगस्त 1947 को भारत को स्वतंत्रता मिली। हालांकि, यह स्वतंत्रता विभाजन के साथ आई, जिससे पाकिस्तान का निर्माण हुआ और बड़े पैमाने पर हिंसा और प्रवासन हुआ।\n",
            "\n",
            "इस संग्राम में अनेक नेताओं और कार्यकर्ताओं ने महत्वपूर्ण भूमिका निभाई, जैसे कि सुभाष चंद्र बोस, भगत सिंह, रानी झाँसी, लाला लाजपत राय, और कई अन्य। स्वतंत्रता संग्राम ने भारतीय समाज में जागरूकता, एकता और राष्ट्रीयता की भावना को बढ़ाया।\n",
            "\n",
            "--- Tamil ---\n",
            "தமிழ்நாடு இந்தியாவின் தெற்குப் பகுதியில் அமைந்துள்ள ஒரு மாநிலமாகும், இது அதன் வளமான கலாச்சார பாரம்பரியம், வரலாற்று முக்கியத்துவம் மற்றும் பன்முகத்தன்மை கொண்ட புவியியல் அமைப்புக்கு பெயர் பெற்றது. இந்தியாவின் மிகப்பெரிய பெருநகரப் பகுதிகளில் ஒன்றான சென்னை, தலைநகராகவும், ஒரு முக்கிய பொருளாதார மையமாகவும் உள்ளது.\n",
            "\n",
            "### புவியியல்\n",
            "தமிழ்நாடு தெற்கே இந்தியப் பெருங்கடலாலும், கிழக்கே வங்காள விரிகுடாவாலும் எல்லையாகக் கொண்டுள்ளது, மேலும் கேரளா, கர்நாடகா மற்றும் ஆந்திரப் பிரதேச மாநிலங்களுடன் நில எல்லைகளைப் பகிர்ந்து கொள்கிறது. இந்த மாநிலம் கடலோர சமவெளிகள், மலைகள் மற்றும் பீடபூமிகள் உட்பட பல்வேறு நிலப்பரப்புகளைக் கொண்டுள்ளது. மேற்குத் தொடர்ச்சி மலைகள் அதன் மேற்கு விளிம்பில் ஓடுகின்றன, இது இப்பகுதியின் பல்லுயிர் பெருக்கத்திற்கு பங்களிக்கிறது.\n",
            "\n",
            "### கலாச்சாரம்\n",
            "தமிழ்நாடு பாரம்பரிய இசை, நடனம் மற்றும் கலை வடிவங்களால் வகைப்படுத்தப்படும் ஒரு துடிப்பான கலாச்சார காட்சியைக் கொண்டுள்ளது. பரதநாட்டியம் என்ற பாரம்பரிய நடன வடிவம் இங்குதான் தோன்றியது. அறுவடைக் காலத்தைக் கொண்டாடும் பொங்கல் மற்றும் முருகக் கடவுளைக் கௌரவிக்கும் தைப்பூசம் போன்ற பாரம்பரிய பண்டிகைகளுக்கும் இந்த மாநிலம் பெயர் பெற்றது.\n",
            "\n",
            "### மொழி\n",
            "உலகின் பழமையான மொழிகளில் ஒன்றான தமிழ், அதிகாரப்பூர்வ மொழியாகும். தமிழ் இலக்கியம் இரண்டாயிரம் ஆண்டுகளுக்கும் மேலான வரலாற்றைக் கொண்டுள்ளது, கவிதை, தத்துவம் மற்றும் நாடகத்திற்கு குறிப்பிடத்தக்க பங்களிப்புகளைக் கொண்டுள்ளது.\n",
            "\n",
            "### பொருளாதாரம்\n",
            "தமிழ்நாடு விவசாயம், உற்பத்தி மற்றும் சேவைகள் ஆகியவற்றை முக்கிய துறைகளாகக் கொண்ட பன்முகத்தன்மை கொண்ட பொருளாதாரத்தைக் கொண்டுள்ளது. இது ஜவுளி, ஆட்டோமொபைல்கள் மற்றும் தகவல் தொழில்நுட்பத்தில் முன்னணி உற்பத்தியாளராக உள்ளது. இந்த மாநிலம் அதன் வலுவான ஆட்டோமொபைல் துறையின் காரணமாக பெரும்பாலும் \"இந்தியாவின் டெட்ராய்ட்\" என்று அழைக்கப்படுகிறது.\n",
            "\n",
            "### வரலாற்று முக்கியத்துவம்\n",
            "இந்த மாநிலம் பல பழங்கால கோயில்கள், நினைவுச்சின்னங்கள் மற்றும் யுனெஸ்கோ உலக பாரம்பரிய தளங்களான கிரேட் லிவிங் சோழ கோயில்கள் மற்றும் ராஜஸ்தானின் மலைக்கோட்டைகள் போன்றவற்றின் தாயகமாகும். இந்தக் கோயில்களின் கட்டிடக்கலை அதன் சிக்கலான சிற்ப வேலைப்பாடுகள் மற்றும் உயர்ந்த கோபுரங்கள் (நுழைவாயில் கோபுரங்கள்) ஆகியவற்றால் குறிப்பிடத்தக்கது.\n",
            "\n",
            "### கல்வி மற்றும் ஆராய்ச்சி\n",
            "தமிழ்நாடு ஏராளமான பல்கலைக்கழகங்கள் மற்றும் ஆராய்ச்சி நிறுவனங்களுடன் வலுவான கல்வி உள்கட்டமைப்பைக் கொண்டுள்ளது. நாட்டின் முதன்மையான நிறுவனங்களில் சென்னை ஐஐடி மெட்ராஸ் மற்றும் அண்ணா பல்கலைக்கழகம் ஆகியவை அடங்கும்.\n",
            "\n",
            "### சுற்றுலா\n",
            "தமிழ்நாட்டில் சுற்றுலா ஒரு முக்கியமான துறையாகும், அதன் கோயில்கள், ஊட்டி மற்றும் கொடைக்கானல் போன்ற மலைவாசஸ்தலங்கள் மற்றும் மகாபலிபுரம் மற்றும் ராமேஸ்வரம் போன்ற கடலோர நகரங்களுக்கு பார்வையாளர்களை ஈர்க்கிறது. மாநிலத்தின் வளமான பாரம்பரியம் மற்றும் இயற்கை அழகு, உள்நாட்டு மற்றும் சர்வதேச பயணிகளுக்கு ஒரு பிரபலமான இடமாக அமைகிறது.\n",
            "\n",
            "சுருக்கமாக, தமிழ்நாடு பாரம்பரியம் மற்றும் நவீனத்துவத்தின் கலவையை உள்ளடக்கிய ஒரு மாநிலமாகும், இது இந்தியாவின் தனித்துவமான மற்றும் குறிப்பிடத்தக்க பகுதியாக அமைகிறது.\n",
            "\n",
            "--- Bengali ---\n",
            "বাংলা সাহিত্যের ইতিহাস একটি সমৃদ্ধ এবং বৈচিত্র্যময় ধারাবাহিকতা যা প্রাচীন থেকে আধুনিক যুগ পর্যন্ত বিস্তৃত। এর মূল পর্বগুলি নিম্নরূপ:\n",
            "\n",
            "1. **প্রাচীন বাংলা সাহিত্য (৮ম-১২শ শতক)**: এই সময়ে বাংলা ভাষার প্রথম লেখ্য রূপ তৈরি হয়। \"চর্যাপদ\" (১১শ শতক) হল বাংলা সাহিত্যের অন্যতম প্রাচীন কাব্য, যা বৌদ্ধ সন্ন্যাসীদের গীত। \n",
            "\n",
            "2. **মধ্যযুগীয় বাংলা সাহিত্য (১৩শ-১৭শ শতক)**: এই সময়ে ভক্তি আন্দোলনের প্রভাব পড়ে বাংলা সাহিত্যে। চণ্ডীদাস, মাধবকন্দলীর মতো কবিরা ভক্তি কবিতা রচনা করেন। \"গীত Govinda\" ও \"শ্রীকৃষ্ণকীর্তন\" এর মতো গ্রন্থগুলি জনপ্রিয়তা লাভ করে।\n",
            "\n",
            "3. **নবজাগরণ ও আধুনিক বাংলা সাহিত্য (১৮শ-১৯শ শতক)**: রবীন্দ্রনাথ ঠাকুর, কাজী নজরুল ইসলাম, শরৎচন্দ্র চট্টোপাধ্যায়ের মতো লেখকেরা এই সময়ের প্রধান ব্যক্তিত্ব। রবীন্দ্রনাথ ঠাকুর ১৯১৩ সালে নোবেল পুরস্কার পান। \n",
            "\n",
            "4. **আধুনিক বাংলা সাহিত্য (২০শ শতক)**: এই সময়ে বাংলা সাহিত্যে বিভিন্ন ধারার উদ্ভব ঘটে। প্রবন্ধ, নাটক, গল্প, উপন্যাসের ক্ষেত্রে নতুন নতুন লেখক ও ধারার সৃষ্টি হয়। সেলিনা হোসেন, হুমায়ূন আহমেদ, ফজলে রাব্বী, এবং অন্যান্য লেখকরা উল্লেখযোগ্য।\n",
            "\n",
            "5. **বর্তমান বাংলা সাহিত্য (২১শ শতক)**: প্রযুক্তির উন্নতি ও সামাজিক পরিবর্তনের সাথে সাথে বাংলা সাহিত্যে নতুন ধারার উদ্ভব হচ্ছে। ব্লগ, সোশ্যাল মিডিয়া, ও ডিজিটাল প্রকাশনা মাধ্যমে নতুন লেখকদের উত্থান ঘটছে।\n",
            "\n",
            "বাংলা সাহিত্য তার নিজস্ব ঐতিহ্য ও সংস্কৃতি নিয়ে একটি জীবন্ত এবং চলমান ইতিহাস, যা সমাজের পরিবর্তনের সাথে সাথে বিকশিত হচ্ছে।\n",
            "\n",
            "--- Spanish ---\n",
            "La inteligencia artificial (IA) es un campo de la informática que se centra en la creación de sistemas y programas capaces de realizar tareas que normalmente requieren inteligencia humana. Estas tareas pueden incluir el aprendizaje, el razonamiento, la percepción, la comprensión del lenguaje natural, y la toma de decisiones. \n",
            "\n",
            "Existen dos tipos principales de inteligencia artificial:\n",
            "\n",
            "1. **IA débil**: También conocida como IA estrecha, se refiere a sistemas diseñados para realizar una tarea específica, como asistentes virtuales (ej., Siri, Alexa), sistemas de recomendación o chatbots. No poseen conciencia ni comprensión más allá de su función programada.\n",
            "\n",
            "2. **IA fuerte**: Se refiere a sistemas que tienen la capacidad de entender, razonar y aprender de manera similar a los humanos. Este tipo de IA aún es teórica y no ha sido alcanzado en la práctica.\n",
            "\n",
            "La IA utiliza diversas técnicas y enfoques, incluidos el aprendizaje automático (machine learning), el aprendizaje profundo (deep learning), redes neuronales, algoritmos evolutivos y procesamiento del lenguaje natural. Su aplicación abarca múltiples sectores, como la medicina, la automoción, las finanzas, la educación, y muchos otros, mejorando la eficiencia y la capacidad de análisis en diversas áreas.\n",
            "\n",
            "--- Arabic ---\n",
            "الذكاء الاصطناعي (AI) هو فرع من فروع علوم الكمبيوتر يركز على إنشاء أنظمة قادرة على أداء مهام تتطلب عادةً الذكاء البشري. تشمل هذه المهام التعلم، التفكير، الفهم، التفاعل، والتكيف مع الظروف المختلفة. \n",
            "\n",
            "يمكن تقسيم الذكاء الاصطناعي إلى نوعين رئيسيين:\n",
            "\n",
            "1. **الذكاء الاصطناعي الضيق (Narrow AI)**: وهو مصمم لأداء مهمة محددة، مثل الترجمة، التعرف على الصوت، أو اللعب في الألعاب. أمثلة على ذلك هي المساعدات الصوتية مثل سيري وأليكسا.\n",
            "\n",
            "2. **الذكاء الاصطناعي العام (General AI)**: وهو نمط متقدم من الذكاء الاصطناعي الذي يسعى لمحاكاة القدرات العقلية البشرية بشكل كامل، مما يمكنه من أداء أي مهمة فكرية يمكن أن يقوم بها الإنسان. هذا النوع لا يزال في مرحلة البحث والتطوير.\n",
            "\n",
            "تشمل تطبيقات الذكاء الاصطناعي مجالات متعددة مثل الرعاية الصحية، المالية، النقل، التعليم، والترفيه، حيث تساهم في تحسين الكفاءة وتوفير الوقت والموارد.\n"
          ]
        }
      ],
      "source": [
        "languages = [\"Hindi\", \"Tamil\", \"Bengali\", \"Spanish\", \"Arabic\"]\n",
        "questions = [\n",
        "    \"भारतीय स्वतंत्रता संग्राम के बारे में बताइए\",\n",
        "    \"தமிழ் நாடு பற்றி எழுதுங்கள்\",\n",
        "    \"বাংলা সাহিত্যের ইতিহাস কী?\",\n",
        "    \"¿Qué es la inteligencia artificial?\",\n",
        "    \"ما هو الذكاء الاصطناعي؟\"\n",
        "]\n",
        "for lang, q in zip(languages, questions):\n",
        "    print(f\"\\n--- {lang} ---\")\n",
        "    response = litellm.completion(\n",
        "        model=\"openai/sutra-v2\",\n",
        "        api_key=api_key,\n",
        "        api_base=\"https://api.two.ai/v2\",\n",
        "        messages=[{\"role\": \"user\", \"content\": q}],\n",
        "        temperature=0.6,\n",
        "        max_tokens=500\n",
        "    )\n",
        "    print(response['choices'][0]['message']['content'])"
      ]
    },
    {
      "cell_type": "markdown",
      "metadata": {
        "id": "bDLYeq9hnAWT"
      },
      "source": [
        " ### Example 4:Multilingual Translation :"
      ]
    },
    {
      "cell_type": "code",
      "execution_count": null,
      "metadata": {
        "colab": {
          "base_uri": "https://localhost:8080/"
        },
        "id": "eQWHP8CWnIkZ",
        "outputId": "be59ad7e-342e-4863-a366-cc643bf7bb1a"
      },
      "outputs": [
        {
          "name": "stdout",
          "output_type": "stream",
          "text": [
            "\n",
            "=== English → Hindi ===\n",
            "Original: Artificial Intelligence is transforming every industry.\n",
            "Translated: कृत्रिम बुद्धिमत्ता हर उद्योग को बदल रही है।\n",
            "\n",
            "=== English → Japanese ===\n",
            "Original: The global economy is experiencing rapid changes.\n",
            "Translated: 世界経済は急速な変化を経験しています。\n",
            "\n",
            "=== English → Arabic ===\n",
            "Original: Climate change is a pressing global issue.\n",
            "Translated: تغير المناخ قضية عالمية ملحة.\n",
            "\n",
            "=== English → Tamil ===\n",
            "Original: Education is the foundation of a strong society.\n",
            "Translated: கல்வி என்பது ஒரு வலிமையான சமுதாயத்தின் அடித்தளம்.\n",
            "\n",
            "=== English → French ===\n",
            "Original: Healthcare innovation is advancing at an incredible pace.\n",
            "Translated: L'innovation en matière de santé progresse à un rythme incroyable.\n"
          ]
        }
      ],
      "source": [
        "translations = [\n",
        "    (\"English\", \"Hindi\", \"Artificial Intelligence is transforming every industry.\"),\n",
        "    (\"English\", \"Japanese\", \"The global economy is experiencing rapid changes.\"),\n",
        "    (\"English\", \"Arabic\", \"Climate change is a pressing global issue.\"),\n",
        "    (\"English\", \"Tamil\", \"Education is the foundation of a strong society.\"),\n",
        "    (\"English\", \"French\", \"Healthcare innovation is advancing at an incredible pace.\")\n",
        "]\n",
        "\n",
        "for source_lang, target_lang, text in translations:\n",
        "    print(f\"\\n=== {source_lang} → {target_lang} ===\")\n",
        "    prompt = f\"Translate the following {source_lang} sentence into {target_lang}:\\n\\n{text}\"\n",
        "\n",
        "    response = litellm.completion(\n",
        "        model=\"openai/sutra-v2\",\n",
        "        api_key=api_key,\n",
        "        api_base=\"https://api.two.ai/v2\",\n",
        "        messages=[\n",
        "            {\"role\": \"user\", \"content\": prompt}\n",
        "        ],\n",
        "        temperature=0.3,\n",
        "        max_tokens=200\n",
        "    )\n",
        "\n",
        "    print(\"Original:\", text)\n",
        "    print(\"Translated:\", response['choices'][0]['message']['content'])"
      ]
    },
    {
      "cell_type": "markdown",
      "metadata": {
        "id": "7C4DPpLGoYVf"
      },
      "source": [
        "###Building a Simple Chatbot with LiteLLM 🚅"
      ]
    },
    {
      "cell_type": "code",
      "execution_count": null,
      "metadata": {
        "colab": {
          "base_uri": "https://localhost:8080/"
        },
        "id": "6mxWqVACoge3",
        "outputId": "2f70c9ed-b15d-406f-d1e8-80f87f0320c2"
      },
      "outputs": [
        {
          "name": "stdout",
          "output_type": "stream",
          "text": [
            "Chatbot (Sutra): Hello! Type 'exit' to end the conversation.\n",
            "\n",
            "You: hello in hindi\n",
            "Chatbot: नमस्ते\n",
            "You: About TWO AI\n",
            "Chatbot: TWO AI is an innovative AI company founded by Pranav Mistry. It focuses on developing advanced AI models and technologies, utilizing unique architectures to enhance the capabilities of artificial intelligence. The company's work emphasizes creating intelligent systems that can understand and process information in multiple languages, among other applications. Their research and development aim to push the boundaries of what AI can achieve in various fields.\n",
            "You: About Litellm\n",
            "Chatbot: LiteLLM is a lightweight language model designed for efficient deployment and usage in various applications. It aims to provide powerful natural language processing capabilities while maintaining a smaller footprint, making it suitable for devices with limited resources or scenarios where speed is critical. The model focuses on optimizations that allow for faster inference times and reduced memory consumption compared to larger models, enabling developers to integrate advanced language understanding features into their applications without the need for extensive computational resources. LiteLLM is particularly useful in mobile applications, edge computing, and real-time processing tasks.\n",
            "You: exit\n",
            "Chatbot: Goodbye! 👋\n"
          ]
        }
      ],
      "source": [
        "import os\n",
        "import litellm\n",
        "\n",
        "# Basic chat loop with history\n",
        "print(\"Chatbot (Sutra): Hello! Type 'exit' to end the conversation.\\n\")\n",
        "\n",
        "chat_history = []\n",
        "\n",
        "while True:\n",
        "    user_input = input(\"You: \")\n",
        "\n",
        "    if user_input.lower() == \"exit\":\n",
        "        print(\"Chatbot: Goodbye! 👋\")\n",
        "        break\n",
        "\n",
        "    chat_history.append({\"role\": \"user\", \"content\": user_input})\n",
        "\n",
        "    try:\n",
        "        response = litellm.completion(\n",
        "            model=\"openai/sutra-v2\",\n",
        "            api_key=api_key,\n",
        "            api_base=\"https://api.two.ai/v2\",\n",
        "            messages=chat_history,\n",
        "            temperature=0.7,\n",
        "            max_tokens=500,\n",
        "        )\n",
        "\n",
        "        reply = response[\"choices\"][0][\"message\"][\"content\"]\n",
        "        print(\"Chatbot:\", reply)\n",
        "\n",
        "        chat_history.append({\"role\": \"assistant\", \"content\": reply})\n",
        "\n",
        "    except Exception as e:\n",
        "        print(\"Error:\", str(e))\n"
      ]
    }
  ],
  "metadata": {
    "colab": {
      "provenance": []
    },
    "kernelspec": {
      "display_name": "Python 3",
      "name": "python3"
    },
    "language_info": {
      "name": "python"
    }
  },
  "nbformat": 4,
  "nbformat_minor": 0
}
