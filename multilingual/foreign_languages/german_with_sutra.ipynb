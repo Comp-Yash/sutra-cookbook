{
  "cells": [
    {
      "cell_type": "markdown",
      "metadata": {
        "id": "yyr18q4duygs"
      },
      "source": [
        "# Verwendung des Sutra-Modells für die deutsche Sprache\n",
        "\n",
        "<img src=\"https://play-lh.googleusercontent.com/_O9p4Z4yucA2NLmZBu9mTJCuBwXeT9NcbtrDN6I8gKlkIPRySV0adOmbyipjSj9Gew\" width=\"150\">\n",
        "\n",
        "[![In Colab öffnen](https://colab.research.google.com/assets/colab-badge.svg)](https://colab.research.google.com/drive/1AmF3wnqvQ3aksgXoCwg4qMJvJKKhzna_?usp=sharing)\n",
        "\n",
        "## Einführung\n",
        "\n",
        "In diesem Notebook zeigen wir, wie das Sutra-Modell mit dem OpenAI-Client speziell für Anwendungen in der deutschen Sprache verwendet werden kann. Sutra zeichnet sich durch die Verarbeitung und Generierung von Inhalten in mehreren Sprachen, einschließlich Deutsch, aus und ist daher ideal für deutschsprachige Aufgaben geeignet.\n",
        "\n",
        "### Was Sie lernen werden\n",
        "\n",
        "* Einrichten des OpenAI-Clients für die Arbeit mit dem Sutra-Modell\n",
        "* Erstellen von Prompts auf Deutsch und Verstehen der Antworten\n",
        "* Erkundung verschiedener Anwendungsfälle in der deutschen Sprache\n",
        "* Best Practices für die Generierung von Inhalten auf Deutsch\n"
      ]
    },
    {
      "cell_type": "markdown",
      "metadata": {
        "id": "RNkRXVmul_n5"
      },
      "source": [
        "## API-Schlüssel beschaffen\n",
        "\n",
        "Bevor Sie beginnen, stellen Sie sicher, dass Sie Folgendes haben:\n",
        "\n",
        "1. Einen SUTRA API-Schlüssel (Erhältlich auf der [SUTRA API-Seite von TWO AI](https://www.two.ai/sutra/api))\n",
        "2. Grundlegende Kenntnisse in Python und Jupyter-Notebooks\n",
        "\n",
        "Dieses Notebook ist für die Ausführung in Google Colab konzipiert, sodass keine lokale Python-Installation erforderlich ist."
      ]
    },
    {
      "cell_type": "markdown",
      "metadata": {
        "id": "k8I8APqau_yf"
      },
      "source": [
        "## Einrichtung\n",
        "Zuerst installieren Sie die erforderlichen Bibliotheken."
      ]
    },
    {
      "cell_type": "code",
      "execution_count": null,
      "metadata": {
        "id": "tTLnrtjovTiG"
      },
      "outputs": [],
      "source": [
        "# Erforderliche Pakete installieren\n",
        "!pip install openai"
      ]
    },
    {
      "cell_type": "markdown",
      "metadata": {
        "id": "yeHEtpG8vbCS"
      },
      "source": [
        "### Erforderliche Bibliotheken importieren\n"
      ]
    },
    {
      "cell_type": "code",
      "execution_count": null,
      "metadata": {
        "id": "WwFyn2fivcsW"
      },
      "outputs": [],
      "source": [
        "# Erforderliche Bibliotheken importieren\n",
        "import os\n",
        "import time\n",
        "from openai import OpenAI\n",
        "from IPython.display import display, Markdown, HTML\n",
        "from google.colab import userdata"
      ]
    },
    {
      "cell_type": "markdown",
      "metadata": {
        "id": "QHR9CHddvr_C"
      },
      "source": [
        "## Authentifizierung\n",
        "Um die Sutra-API zu verwenden, müssen Sie Ihren API-Schlüssel einrichten.\n",
        "\n"
      ]
    },
    {
      "cell_type": "code",
      "execution_count": null,
      "metadata": {
        "id": "LKpXC_pTv8mq"
      },
      "outputs": [],
      "source": [
        "# Beispiel für die Verwendung im Code:\n",
        "os.environ[\"SUTRA_API_KEY\"] = userdata.get('SUTRA_API_KEY')"
      ]
    },
    {
      "cell_type": "markdown",
      "metadata": {
        "id": "WOS3DVEuwELW"
      },
      "source": [
        "### OpenAI-Client mit Sutra-API-Endpunkt erstellen\n"
      ]
    },
    {
      "cell_type": "code",
      "execution_count": null,
      "metadata": {
        "id": "KOk5-vyKwFfc"
      },
      "outputs": [],
      "source": [
        "# OpenAI-Client mit Sutra-API-Endpunkt erstellen\n",
        "client = OpenAI(\n",
        "    base_url=\"https://api.two.ai/v2\",\n",
        "    api_key=os.environ.get(\"SUTRA_API_KEY\")\n",
        ")"
      ]
    },
    {
      "cell_type": "markdown",
      "metadata": {
        "id": "egWJTPP-wRVr"
      },
      "source": [
        "## Hilfsfunktionen\n",
        "\n",
        "Erstellen Sie Hilfsfunktionen, um mit der Sutra-API für deutschsprachige Aufgaben zu interagieren."
      ]
    },
    {
      "cell_type": "code",
      "execution_count": null,
      "metadata": {
        "id": "g9wHZIgAwTHA"
      },
      "outputs": [],
      "source": [
        "import time\n",
        "from IPython.display import display, HTML\n",
        "\n",
        "def get_sutra_response(prompt, model=\"sutra-v2\", temperature=0.7, max_tokens=1024):\n",
        "    \"\"\"Einfache nicht-streamende Antwort von Sutra AI\"\"\"\n",
        "    try:\n",
        "        start_time = time.time()\n",
        "\n",
        "        # Grundlegender API-Aufruf\n",
        "        response = client.chat.completions.create(\n",
        "            model=model,\n",
        "            messages=[{\"role\": \"user\", \"content\": prompt}],\n",
        "            temperature=temperature,\n",
        "            max_tokens=max_tokens\n",
        "        )\n",
        "\n",
        "        # Antwortinhalt abrufen\n",
        "        result = response.choices[0].message.content\n",
        "        time_taken = time.time() - start_time\n",
        "\n",
        "        # Einfache Anzeige\n",
        "        print(f\"Prompt: {prompt}\")\n",
        "        print(f\"Antwort: {result}\")\n",
        "        print(f\"Dauer: {time_taken:.2f}s\")\n",
        "\n",
        "        return result, time_taken\n",
        "\n",
        "    except Exception as e:\n",
        "        error_msg = f\"Fehler: {str(e)}\"\n",
        "        print(error_msg)\n",
        "        return error_msg, 0\n",
        "\n",
        "def get_sutra_streaming_response(prompt, model=\"sutra-v2\", temperature=0.7, max_tokens=1024):\n",
        "    \"\"\"Einfache streamende Antwort von Sutra AI\"\"\"\n",
        "    try:\n",
        "        start_time = time.time()\n",
        "\n",
        "        # Streaming starten\n",
        "        stream = client.chat.completions.create(\n",
        "            model=model,\n",
        "            messages=[{\"role\": \"user\", \"content\": prompt}],\n",
        "            temperature=temperature,\n",
        "            max_tokens=max_tokens,\n",
        "            stream=True\n",
        "        )\n",
        "\n",
        "        print(f\"Prompt: {prompt}\")\n",
        "        print(\"Antwort: \", end=\"\")\n",
        "\n",
        "        full_response = \"\"\n",
        "\n",
        "        # Chunks nach und nach anzeigen\n",
        "        for chunk in stream:\n",
        "            if chunk.choices[0].delta.content:\n",
        "                content = chunk.choices[0].delta.content\n",
        "                print(content, end=\"\", flush=True)\n",
        "                full_response += content\n",
        "\n",
        "        time_taken = time.time() - start_time\n",
        "        print(f\"\\nDauer: {time_taken:.2f}s\")\n",
        "\n",
        "        return full_response\n",
        "\n",
        "    except Exception as e:\n",
        "        error_msg = f\"Fehler: {str(e)}\"\n",
        "        print(error_msg)\n",
        "        return error_msg"
      ]
    },
    {
      "cell_type": "markdown",
      "metadata": {
        "id": "N0qX54OAwmhP"
      },
      "source": [
        "## 1. Grundlegende Textgenerierung auf Deutsch\n",
        "\n",
        "Beginnen wir mit einigen grundlegenden Beispielen zur Generierung von deutschem Text mit Sutra."
      ]
    },
    {
      "cell_type": "code",
      "execution_count": null,
      "metadata": {
        "id": "EPLSpKS0wuaI"
      },
      "outputs": [],
      "source": [
        "# Einfache Textgenerierung auf Deutsch\n",
        "german_prompt = \"Hallo, mein Name ist Anna. Wie geht es dir?\"\n",
        "\n",
        "response, time_taken = get_sutra_response(german_prompt)"
      ]
    },
    {
      "cell_type": "markdown",
      "metadata": {
        "id": "KkXLy8Nqw3TP"
      },
      "source": [
        "## 2. Informationsabruf auf Deutsch\n",
        "\n",
        "Nutzen wir Sutra, um Informationen auf Deutsch abzurufen."
      ]
    },
    {
      "cell_type": "code",
      "execution_count": null,
      "metadata": {
        "id": "5g6F0iuw449"
      },
      "outputs": [],
      "source": [
        "# Informationsabruf auf Deutsch\n",
        "info_prompt = \"Erzähle mir von den fünf wichtigsten deutschen Festen und hebe deren Bedeutung hervor.\"\n",
        "\n",
        "response, time_taken = get_sutra_response(info_prompt)"
      ]
    },
    {
      "cell_type": "markdown",
      "metadata": {
        "id": "Rn_QyFgoxH-Y"
      },
      "source": [
        "## 3. Kreatives Schreiben auf Deutsch\n",
        "\n",
        "Sutra kann kreative Inhalte auf Deutsch generieren."
      ]
    },
    {
      "cell_type": "code",
      "execution_count": null,
      "metadata": {
        "id": "rYCDHgDAxO9y"
      },
      "outputs": [],
      "source": [
        "# Kreatives Schreiben auf Deutsch\n",
        "creative_prompt = \"Schreibe ein kurzes Gedicht über die Alpen.\"\n",
        "\n",
        "response, time_taken = get_sutra_response(creative_prompt, temperature=0.8)"
      ]
    },
    {
      "cell_type": "markdown",
      "metadata": {
        "id": "I2IhAC0dxVvp"
      },
      "source": [
        "## 4. Zusammenfassung auf Deutsch\n",
        "\n",
        "Sutra kann deutsche Texte effektiv zusammenfassen."
      ]
    },
    {
      "cell_type": "code",
      "execution_count": null,
      "metadata": {
        "id": "ZP-cy9LmxVZ9"
      },
      "outputs": [],
      "source": [
        "# Text für die Zusammenfassung\n",
        "long_text = \"\"\"\n",
        "Die Geschichte der deutschen Wiedervereinigung ist ein bedeutendes Kapitel in der modernen Geschichte. Nach dem Zweiten Weltkrieg wurde Deutschland in Ost- und Westdeutschland geteilt, mit der Berliner Mauer als Symbol der Trennung. Die Teilung begann 1945 und dauerte bis 1989, als die Mauer fiel.\n",
        "\n",
        "Die Wiedervereinigung wurde am 3. Oktober 1990 offiziell vollzogen, als die Deutsche Demokratische Republik (DDR) der Bundesrepublik Deutschland (BRD) beitrat. Dieser Prozess war das Ergebnis politischer Verhandlungen und des starken Wunsches der Bevölkerung nach Einheit.\n",
        "\n",
        "Die Wiedervereinigung brachte wirtschaftliche und soziale Herausforderungen, aber auch neue Möglichkeiten. Heute ist Deutschland ein führendes Land in Europa, bekannt für seine wirtschaftliche Stärke und kulturelle Vielfalt.\n",
        "\"\"\"\n",
        "\n",
        "summarize_prompt = f\"Fasse den folgenden Text in weniger als 100 Wörtern zusammen:\\n\\n{long_text}\"\n",
        "\n",
        "summary, time_taken = get_sutra_response(summarize_prompt, temperature=0.3)"
      ]
    },
    {
      "cell_type": "markdown",
      "metadata": {
        "id": "-W82E6wGxkJX"
      },
      "source": [
        "## 5. Fragenbeantwortung auf Deutsch\n",
        "\n",
        "Nutzen wir Sutra für die Beantwortung von Fragen auf Deutsch."
      ]
    },
    {
      "cell_type": "code",
      "execution_count": null,
      "metadata": {
        "id": "eLW7llmBxsKZ"
      },
      "outputs": [],
      "source": [
        "# Kontext für die Fragenbeantwortung\n",
        "context = \"\"\"\n",
        "Die deutsche Verfassung, auch Grundgesetz genannt, ist das höchste Gesetz der Bundesrepublik Deutschland. Sie wurde am 23. Mai 1949 verabschiedet und trat in Kraft. Das Grundgesetz besteht aus 146 Artikeln und regelt die Grundrechte, die Staatsorganisation und die Rechtsordnung. Es wurde von Konrad Adenauer und anderen Mitgliedern des Parlamentarischen Rates unterzeichnet.\n",
        "\"\"\"\n",
        "\n",
        "qa_prompt = f\"Beantworte die folgenden Fragen basierend auf den bereitgestellten Informationen:\\n\\n{context}\\n\\nFrage 1: Wann trat das Grundgesetz in Kraft?\\nFrage 2: Wie viele Artikel umfasst das Grundgesetz?\\nFrage 3: Wer unterzeichnete das Grundgesetz?\"\n",
        "\n",
        "answers, time_taken = get_sutra_response(qa_prompt, temperature=0.2)"
      ]
    },
    {
      "cell_type": "markdown",
      "metadata": {
        "id": "uivkOeA3xr1v"
      },
      "source": [
        "## 6. Deutsch-Englisch-Übersetzung\n",
        "\n",
        "Sutra kann effektiv zwischen Deutsch und Englisch übersetzen."
      ]
    },
    {
      "cell_type": "code",
      "execution_count": null,
      "metadata": {
        "id": "zJRRLM-Uy100"
      },
      "outputs": [],
      "source": [
        "# Deutsch nach Englisch Übersetzung\n",
        "german_text = \"Deutschland ist ein Land mit einer reichen Kultur und Geschichte. Seine Traditionen und Natur ziehen Besucher aus aller Welt an.\"\n",
        "\n",
        "translate_de_to_en_prompt = f\"Übersetze den folgenden deutschen Text ins Englische:\\n\\n{german_text}\"\n",
        "\n",
        "translation_en, time_taken = get_sutra_response(translate_de_to_en_prompt)"
      ]
    },
    {
      "cell_type": "code",
      "execution_count": null,
      "metadata": {
        "id": "IQ45bUeRiakr"
      },
      "outputs": [],
      "source": [
        "# Englisch nach Deutsch Übersetzung\n",
        "english_text = \"Artificial intelligence is transforming the way we live and work. It has applications in healthcare, education, transportation, and many other fields.\"\n",
        "\n",
        "translate_en_to_de_prompt = f\"Übersetze den folgenden englischen Text ins Deutsche:\\n\\n{english_text}\"\n",
        "\n",
        "translation_de, time_taken = get_sutra_response(translate_en_to_de_prompt)"
      ]
    },
    {
      "cell_type": "markdown",
      "metadata": {
        "id": "bK7_DhcOi5hP"
      },
      "source": [
        "## 7. Sentimentanalyse auf Deutsch\n",
        "\n",
        "Nutzen wir Sutra, um eine Sentimentanalyse für deutsche Texte durchzuführen."
      ]
    },
    {
      "cell_type": "code",
      "execution_count": null,
      "metadata": {
        "id": "aYs1qwsijESm"
      },
      "outputs": [],
      "source": [
        "# Deutsche Bewertungen für die Sentimentanalyse\n",
        "reviews = [\n",
        "    \"Der Film war sehr gut. Die Geschichte war fesselnd und die Schauspieler waren hervorragend.\",\n",
        "    \"Das Essen war überhaupt nicht lecker und der Service war sehr schlecht.\",\n",
        "    \"Das Produkt ist in Ordnung, aber der Preis ist etwas hoch.\",\n",
        "    \"Ich mag dieses Buch, der Autor hat das Thema sehr gut erklärt.\",\n",
        "    \"Die Reise war enttäuschend, das Hotel war schmutzig und das Personal war unfreundlich.\"\n",
        "]\n",
        "\n",
        "sentiment_prompt = \"Führe eine Sentimentanalyse für die folgenden deutschen Bewertungen durch und klassifiziere sie als 'Positiv', 'Negativ' oder 'Neutral':\\n\\n\"\n",
        "\n",
        "for i, review in enumerate(reviews):\n",
        "    sentiment_prompt += f\"{i+1}. {review}\\n\"\n",
        "\n",
        "sentiment_analysis, time_taken = get_sutra_response(sentiment_prompt, temperature=0.1)"
      ]
    },
    {
      "cell_type": "markdown",
      "metadata": {
        "id": "JS3SjqAijLiS"
      },
      "source": [
        "## 8. Generierung von Inhalten auf Deutsch in verschiedenen Formaten\n",
        "\n",
        "Sutra kann Inhalte auf Deutsch in verschiedenen Formaten generieren."
      ]
    },
    {
      "cell_type": "code",
      "execution_count": null,
      "metadata": {
        "id": "HapYgv8ljTOU"
      },
      "outputs": [],
      "source": [
        "# Blogpost auf Deutsch generieren\n",
        "blog_prompt = \"Schreibe einen Blogpost zum Thema 'Deutsche Küche und ihre Auswirkungen auf die Gesundheit'. Füge einen Titel, eine Einleitung, Hauptpunkte und einen Schluss hinzu.\"\n",
        "\n",
        "blog_post = get_sutra_streaming_response(blog_prompt, temperature=0.7)"
      ]
    },
    {
      "cell_type": "markdown",
      "metadata": {
        "id": "upllGp8ijbQL"
      },
      "source": [
        "## 9. Fazit\n",
        "\n",
        "In diesem Notebook haben wir die Verwendung des Sutra-Modells mit dem OpenAI-Client für **deutschsprachige Anwendungen** untersucht. Wir haben verschiedene Anwendungsfälle behandelt, darunter:\n",
        "\n",
        "* Grundlegende Textgenerierung auf Deutsch\n",
        "* Informationsabruf auf Deutsch\n",
        "* Kreatives Schreiben auf Deutsch\n",
        "* Zusammenfassung von Texten auf Deutsch\n",
        "* Fragenbeantwortung auf Deutsch\n",
        "* Deutsch-Englisch-Übersetzung\n",
        "* Sentimentanalyse auf Deutsch\n",
        "* Generierung von Inhalten auf Deutsch in verschiedenen Formaten\n",
        "\n",
        "Die starken Fähigkeiten von Sutra in der deutschen Sprache und anderen Sprachen machen es zu einer hervorragenden Wahl für Anwendungen, die auf deutschsprachige Nutzer abzielen oder deutsche Sprachverarbeitung erfordern.\n",
        "\n"
      ]
    },
    {
      "cell_type": "markdown",
      "metadata": {
        "id": "bTS6yWexjrpl"
      },
      "source": [
        "## 10. Zusätzliche Ressourcen\n",
        "\n",
        "Um mehr über die Verwendung von Sutra mit der **deutschen Sprache** zu erfahren, konsultieren Sie die folgenden Ressourcen:\n",
        "\n",
        "1. [Sutra API-Dokumentation](https://docs.two.ai)\n",
        "2. [Sutra-Modellvarianten](https://docs.two.ai/models)\n",
        "3. [Mehr über mehrsprachige Fähigkeiten](https://docs.two.ai/multilingual)\n",
        "\n",
        "Wir ermutigen Sie, Ihre eigenen Anwendungen mit Sutra für **Deutsch** und andere Sprachen zu entwickeln!\n",
        "\n"
      ]
    }
  ],
  "metadata": {
    "colab": {
      "provenance": []
    },
    "kernelspec": {
      "display_name": "Python 3",
      "name": "python3"
    },
    "language_info": {
      "name": "python"
    }
  },
  "nbformat": 4,
  "nbformat_minor": 0
}
