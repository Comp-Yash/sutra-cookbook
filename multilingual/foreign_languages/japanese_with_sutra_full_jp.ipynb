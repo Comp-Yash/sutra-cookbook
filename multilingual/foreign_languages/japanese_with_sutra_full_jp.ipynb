{
  "cells": [
    {
      "cell_type": "markdown",
      "metadata": {
        "id": "yyr18q4duygs"
      },
      "source": [
        "# Sutraモデルを日本語に使用する\n",
        "\n",
        "<img src=\"https://play-lh.googleusercontent.com/_O9p4Z4yucA2NLmZBu9mTJCuBwXeT9NcbtrDN6I8gKlkIPRySV0adOmbyipjSj9Gew\" width=\"150\">\n",
        "\n",
        "[![Colabで開く](https://colab.research.google.com/assets/colab-badge.svg)](https://colab.research.google.com/drive/1Bek-Hdl2P_Zjn4cmEAXKGh8j6glr8_JU?usp=sharing)\n",
        "\n",
        "## はじめに\n",
        "\n",
        "このノートブックでは、SutraモデルをOpenAIクライアントとともに日本語アプリケーションに使用する方法をデモンストレーションします。Sutraは日本語を含む複数の言語でのコンテンツ処理と生成に優れており、日本語タスクに最適な選択肢です。\n",
        "\n",
        "### 学習内容\n",
        "\n",
        "* OpenAIクライアントをSutraモデルで設定する方法\n",
        "* 日本語でのプロンプト作成と応答の理解\n",
        "* さまざまな日本語の使用例の探索\n",
        "* 日本語でのコンテンツ生成のベストプラクティス\n"
      ]
    },
    {
      "cell_type": "markdown",
      "metadata": {
        "id": "RNkRXVmul_n5"
      },
      "source": [
        "## APIキーの取得\n",
        "\n",
        "始める前に、以下を準備してください：\n",
        "\n",
        "1. SUTRA APIキー（[TWO AIのSUTRA APIページ](https://www.two.ai/sutra/api)で取得）\n",
        "2. PythonおよびJupyterノートブックの基本的な知識\n",
        "\n",
        "このノートブックはGoogle Colabで実行するように設計されており、ローカルのPythonインストールは必要ありません。"
      ]
    },
    {
      "cell_type": "markdown",
      "metadata": {
        "id": "k8I8APqau_yf"
      },
      "source": [
        "## セットアップ\n",
        "まず、必要なライブラリをインストールします。"
      ]
    },
    {
      "cell_type": "code",
      "execution_count": null,
      "metadata": {
        "id": "tTLnrtjovTiG"
      },
      "outputs": [],
      "source": [
        "# 必要なパッケージをインストール\n",
        "!pip install openai"
      ]
    },
    {
      "cell_type": "markdown",
      "metadata": {
        "id": "yeHEtpG8vbCS"
      },
      "source": [
        "### 必要なライブラリをインポート\n"
      ]
    },
    {
      "cell_type": "code",
      "execution_count": null,
      "metadata": {
        "id": "WwFyn2fivcsW"
      },
      "outputs": [],
      "source": [
        "# 必要なライブラリをインポート\n",
        "import os\n",
        "import time\n",
        "from openai import OpenAI\n",
        "from IPython.display import display, Markdown, HTML\n",
        "from google.colab import userdata"
      ]
    },
    {
      "cell_type": "markdown",
      "metadata": {
        "id": "QHR9CHddvr_C"
      },
      "source": [
        "## 認証\n",
        "Sutra APIを使用するには、APIキーを設定する必要があります。\n",
        "\n"
      ]
    },
    {
      "cell_type": "code",
      "execution_count": null,
      "metadata": {
        "id": "LKpXC_pTv8mq"
      },
      "outputs": [],
      "source": [
        "# コード内で使用する場合の例：\n",
        "os.environ[\"SUTRA_API_KEY\"] = userdata.get('SUTRA_API_KEY')"
      ]
    },
    {
      "cell_type": "markdown",
      "metadata": {
        "id": "WOS3DVEuwELW"
      },
      "source": [
        "## Sutra APIクライアントの設定\n"
      ]
    },
    {
      "cell_type": "code",
      "execution_count": null,
      "metadata": {
        "id": "KOk5-vyKwFfc"
      },
      "outputs": [],
      "source": [
        "# Sutra APIエンドポイントでOpenAIクライアントを作成\n",
        "client = OpenAI(\n",
        "    base_url=\"https://api.two.ai/v2\",\n",
        "    api_key=os.environ.get(\"SUTRA_API_KEY\")\n",
        ")"
      ]
    },
    {
      "cell_type": "markdown",
      "metadata": {
        "id": "egWJTPP-wRVr"
      },
      "source": [
        "## ヘルパー関数\n",
        "\n",
        "日本語タスクのためにSutra APIと対話するヘルパー関数を作成します。"
      ]
    },
    {
      "cell_type": "code",
      "execution_count": null,
      "metadata": {
        "id": "g9wHZIgAwTHA"
      },
      "outputs": [],
      "source": [
        "import time\n",
        "from IPython.display import display, HTML\n",
        "\n",
        "def get_sutra_response(prompt, model=\"sutra-v2\", temperature=0.7, max_tokens=1024):\n",
        "    \"\"\"Sutra AIからのシンプルな非ストリーミング応答\"\"\"\n",
        "    try:\n",
        "        start_time = time.time()\n",
        "\n",
        "        # 基本的なAPI呼び出し\n",
        "        response = client.chat.completions.create(\n",
        "            model=model,\n",
        "            messages=[{\"role\": \"user\", \"content\": prompt}],\n",
        "            temperature=temperature,\n",
        "            max_tokens=max_tokens\n",
        "        )\n",
        "\n",
        "        # 応答内容を取得\n",
        "        result = response.choices[0].message.content\n",
        "        time_taken = time.time() - start_time\n",
        "\n",
        "        # シンプルな表示\n",
        "        print(f\"プロンプト: {prompt}\")\n",
        "        print(f\"応答: {result}\")\n",
        "        print(f\"所要時間: {time_taken:.2f}秒\")\n",
        "\n",
        "        return result, time_taken\n",
        "\n",
        "    except Exception as e:\n",
        "        error_msg = f\"エラー: {str(e)}\"\n",
        "        print(error_msg)\n",
        "        return error_msg, 0\n",
        "\n",
        "def get_sutra_streaming_response(prompt, model=\"sutra-v2\", temperature=0.7, max_tokens=1024):\n",
        "    \"\"\"Sutra AIからのシンプルなストリーミング応答\"\"\"\n",
        "    try:\n",
        "        start_time = time.time()\n",
        "\n",
        "        # ストリーミング開始\n",
        "        stream = client.chat.completions.create(\n",
        "            model=model,\n",
        "            messages=[{\"role\": \"user\", \"content\": prompt}],\n",
        "            temperature=temperature,\n",
        "            max_tokens=max_tokens,\n",
        "            stream=True\n",
        "        )\n",
        "\n",
        "        print(f\"プロンプト: {prompt}\")\n",
        "        print(\"応答: \", end=\"\")\n",
        "\n",
        "        full_response = \"\"\n",
        "\n",
        "        # チャンクを逐次表示\n",
        "        for chunk in stream:\n",
        "            if chunk.choices[0].delta.content:\n",
        "                content = chunk.choices[0].delta.content\n",
        "                print(content, end=\"\", flush=True)\n",
        "                full_response += content\n",
        "\n",
        "        time_taken = time.time() - start_time\n",
        "        print(f\"\\n所要時間: {time_taken:.2f}秒\")\n",
        "\n",
        "        return full_response\n",
        "\n",
        "    except Exception as e:\n",
        "        error_msg = f\"エラー: {str(e)}\"\n",
        "        print(error_msg)\n",
        "        return error_msg"
      ]
    },
    {
      "cell_type": "markdown",
      "metadata": {
        "id": "N0qX54OAwmhP"
      },
      "source": [
        "## 1. 基本的な日本語テキスト生成\n",
        "\n",
        "Sutraを使用して基本的な日本語テキスト生成の例から始めましょう。"
      ]
    },
    {
      "cell_type": "code",
      "execution_count": null,
      "metadata": {
        "id": "EPLSpKS0wuaI"
      },
      "outputs": [],
      "source": [
        "# シンプルな日本語テキスト生成\n",
        "japanese_prompt = \"こんにちは、私の名前は太郎です。元気ですか？\"\n",
        "\n",
        "response, time_taken = get_sutra_response(japanese_prompt)"
      ]
    },
    {
      "cell_type": "markdown",
      "metadata": {
        "id": "KkXLy8Nqw3TP"
      },
      "source": [
        "## 2. 日本語での情報取得\n",
        "\n",
        "Sutraを使用して日本語で情報を取得しましょう。"
      ]
    },
    {
      "cell_type": "code",
      "execution_count": null,
      "metadata": {
        "id": "5g6F0iuw449"
      },
      "outputs": [],
      "source": [
        "# 日本語での情報取得\n",
        "info_prompt = \"日本の五大祭りについて教えてください。それぞれの意義も強調してください。\"\n",
        "\n",
        "response, time_taken = get_sutra_response(info_prompt)"
      ]
    },
    {
      "cell_type": "markdown",
      "metadata": {
        "id": "Rn_QyFgoxH-Y"
      },
      "source": [
        "## 3. 日本語での創作\n",
        "\n",
        "Sutraは日本語で創造的なコンテンツを生成できます。"
      ]
    },
    {
      "cell_type": "code",
      "execution_count": null,
      "metadata": {
        "id": "rYCDHgDAxO9y"
      },
      "outputs": [],
      "source": [
        "# 日本語での創作\n",
        "creative_prompt = \"富士山についての短い詩を書いてください。\"\n",
        "\n",
        "response, time_taken = get_sutra_response(creative_prompt, temperature=0.8)"
      ]
    },
    {
      "cell_type": "markdown",
      "metadata": {
        "id": "I2IhAC0dxVvp"
      },
      "source": [
        "## 4. 日本語での要約\n",
        "\n",
        "Sutraは日本語テキストを効果的に要約できます。"
      ]
    },
    {
      "cell_type": "code",
      "execution_count": null,
      "metadata": {
        "id": "ZP-cy9LmxVZ9"
      },
      "outputs": [],
      "source": [
        "# 要約対象テキスト\n",
        "long_text = \"\"\"\n",
        "日本の歴史は長く複雑です。日本の近代史は、1868年の明治維新から始まります。この時期、日本は封建制度から近代国家へと移行しました。明治政府は西洋の技術や制度を取り入れ、急速な近代化を進めました。\n",
        "\n",
        "第二次世界大戦中、日本は連合国と戦い、1945年に敗戦しました。戦後、日本はアメリカの占領下で新しい憲法を制定し、民主主義国家として再出発しました。\n",
        "\n",
        "経済的には、戦後の復興から高度経済成長期を経て、1980年代には世界第二位の経済大国となりました。しかし、1990年代のバブル崩壊以降、経済は停滞しました。\n",
        "\n",
        "現在、日本は技術革新と文化の発展で世界に影響を与え続けています。\n",
        "\"\"\"\n",
        "\n",
        "summarize_prompt = f\"以下のテキストを100語以内で要約してください：\\n\\n{long_text}\"\n",
        "\n",
        "summary, time_taken = get_sutra_response(summarize_prompt, temperature=0.3)"
      ]
    },
    {
      "cell_type": "markdown",
      "metadata": {
        "id": "-W82E6wGxkJX"
      },
      "source": [
        "## 5. 日本語での質問応答\n",
        "\n",
        "Sutraを使用して日本語で質問応答を行いましょう。"
      ]
    },
    {
      "cell_type": "code",
      "execution_count": null,
      "metadata": {
        "id": "eLW7llmBxsKZ"
      },
      "outputs": [],
      "source": [
        "# 質問応答のコンテキスト\n",
        "context = \"\"\"\n",
        "日本国中の和歌は、日本文化において重要な役割を果たしています。和歌は、5-7-5-7-7の31音で構成される短歌の一種で、奈良時代から発展しました。特に、平安時代の『万葉集』は和歌の代表的な作品集です。和歌は自然や季節、恋愛、人生の感情を表現するのに用いられます。\n",
        "\"\"\"\n",
        "\n",
        "qa_prompt = f\"以下の情報に基づいて質問に答えてください：\\n\\n{context}\\n\\n質問1：和歌は何音で構成されていますか？\\n質問2：和歌の代表的な作品集は何ですか？\\n質問3：和歌はどのようなテーマを表現しますか？\"\n",
        "\n",
        "answers, time_taken = get_sutra_response(qa_prompt, temperature=0.2)"
      ]
    },
    {
      "cell_type": "markdown",
      "metadata": {
        "id": "uivkOeA3xr1v"
      },
      "source": [
        "## 6. 日本語-英語翻訳\n",
        "\n",
        "Sutraは日本語と英語間で効果的に翻訳できます。"
      ]
    },
    {
      "cell_type": "code",
      "execution_count": null,
      "metadata": {
        "id": "zJRRLM-Uy100"
      },
      "outputs": [],
      "source": [
        "# 日本語から英語への翻訳\n",
        "japanese_text = \"日本は多様な文化と伝統を持つ国です。その歴史と自然の美しさは世界中から多くの観光客を引きつけます。\"\n",
        "\n",
        "translate_ja_to_en_prompt = f\"以下の日本語テキストを英語に翻訳してください：\\n\\n{japanese_text}\"\n",
        "\n",
        "translation_en, time_taken = get_sutra_response(translate_ja_to_en_prompt)"
      ]
    },
    {
      "cell_type": "code",
      "execution_count": null,
      "metadata": {
        "id": "IQ45bUeRiakr"
      },
      "outputs": [],
      "source": [
        "# 英語から日本語への翻訳\n",
        "english_text = \"人工知能は私たちの生活と働き方を変革しています。医療、教育、輸送など多くの分野で応用されています。\"\n",
        "\n",
        "translate_en_to_ja_prompt = f\"以下の英語テキストを日本語に翻訳してください：\\n\\n{english_text}\"\n",
        "\n",
        "translation_ja, time_taken = get_sutra_response(translate_en_to_ja_prompt)"
      ]
    },
    {
      "cell_type": "markdown",
      "metadata": {
        "id": "bK7_DhcOi5hP"
      },
      "source": [
        "## 7. 日本語での感情分析\n",
        "\n",
        "Sutraを使用して日本語テキストの感情分析を行いましょう。"
      ]
    },
    {
      "cell_type": "code",
      "execution_count": null,
      "metadata": {
        "id": "aYs1qwsijESm"
      },
      "outputs": [],
      "source": [
        "# 感情分析のための日本語レビュー\n",
        "reviews = [\n",
        "    \"この映画はとても面白かったです。ストーリーが魅力的で、演技も素晴らしかったです。\",\n",
        "    \"料理が全く美味しくなく、サービスもとても悪かったです。\",\n",
        "    \"この製品はまあまあですが、価格が少し高いです。\",\n",
        "    \"この本が好きです。著者がテーマをとてもよく説明しています。\",\n",
        "    \"旅行は残念でした。ホテルが汚く、スタッフも不親切でした。\"\n",
        "]\n",
        "\n",
        "sentiment_prompt = \"以下の日本語のレビューに対して感情分析を行い、それぞれを「ポジティブ」、「ネガティブ」、または「ニュートラル」に分類してください：\\n\\n\"\n",
        "\n",
        "for i, review in enumerate(reviews):\n",
        "    sentiment_prompt += f\"{i+1}. {review}\\n\"\n",
        "\n",
        "sentiment_analysis, time_taken = get_sutra_response(sentiment_prompt, temperature=0.1)"
      ]
    },
    {
      "cell_type": "markdown",
      "metadata": {
        "id": "JS3SjqAijLiS"
      },
      "source": [
        "## 8. さまざまな形式での日本語コンテンツ生成\n",
        "\n",
        "Sutraはさまざまな形式で日本語コンテンツを生成できます。"
      ]
    },
    {
      "cell_type": "code",
      "execution_count": null,
      "metadata": {
        "id": "HapYgv8ljTOU"
      },
      "outputs": [],
      "source": [
        "# 日本語のブログ記事を生成\n",
        "blog_prompt = \"「日本の食文化と健康への影響」についてブログ記事を書いてください。タイトル、導入、主要なポイント、結論を含めてください。\"\n",
        "\n",
        "blog_post = get_sutra_streaming_response(blog_prompt, temperature=0.7)"
      ]
    },
    {
      "cell_type": "markdown",
      "metadata": {
        "id": "upllGp8ijbQL"
      },
      "source": [
        "## 9. 結論\n",
        "\n",
        "このノートブックでは、OpenAIクライアントとともにSutraモデルを**日本語アプリケーション**に使用する方法を探索しました。以下のさまざまな使用例をカバーしました：\n",
        "\n",
        "* 基本的な日本語テキスト生成\n",
        "* 日本語での情報取得\n",
        "* 日本語での創作\n",
        "* 日本語テキストの要約\n",
        "* 日本語での質問応答\n",
        "* 日本語-英語翻訳\n",
        "* 日本語での感情分析\n",
        "* さまざまな形式での日本語コンテンツ生成\n",
        "\n",
        "Sutraの日本語および他の言語での強力な機能は、日本語を話すユーザー向けのアプリケーションや日本語処理を必要とするアプリケーションに最適な選択肢です。\n",
        "\n"
      ]
    },
    {
      "cell_type": "markdown",
      "metadata": {
        "id": "bTS6yWexjrpl"
      },
      "source": [
        "## 10. 追加リソース\n",
        "\n",
        "**日本語**でのSutraの使用についてさらに学ぶには、以下のリソースを参照してください：\n",
        "\n",
        "1. [Sutra APIドキュメント](https://docs.two.ai)\n",
        "2. [Sutraモデルバリアント](https://docs.two.ai/models)\n",
        "3. [多言語機能についてさらに詳しく](https://docs.two.ai/multilingual)\n",
        "\n",
        "**日本語**および他の言語でSutraを使用して独自のアプリケーションを構築することをお勧めします！\n",
        "\n"
      ]
    }
  ],
  "metadata": {
    "colab": {
      "provenance": []
    },
    "kernelspec": {
      "display_name": "Python 3",
      "name": "python3"
    },
    "language_info": {
      "name": "python"
    }
  },
  "nbformat": 4,
  "nbformat_minor": 0
}
