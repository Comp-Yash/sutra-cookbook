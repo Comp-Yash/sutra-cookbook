{
  "cells": [
    {
      "cell_type": "markdown",
      "metadata": {
        "id": "yyr18q4duygs"
      },
      "source": [
        "# சூத்ரா மாடலைத் தமிழ் மொழிக்குப் பயன்படுத்துதல்\n",
        "\n",
        "<img src=\"https://play-lh.googleusercontent.com/_O9p4Z4yucA2NLmZBu9mTJCuBwXeT9NcbtrDN6I8gKlkIPRySV0adOmbyipjSj9Gew\" width=\"150\">\n",
        "\n",
        "[![கோலாபில் திறக்கவும்](https://colab.research.google.com/assets/colab-badge.svg)](https://colab.research.google.com/drive/1wUpw24ZwrUCaNI25Za4bulbM2wbQYQax#scrollTo=RNkRXVmul_n5)\n",
        "\n",
        "## அறிமுகம்\n",
        "\n",
        "இந்த நோட்புக்கில், சூத்ரா மாடலை ஓபன்AI கிளையன்டுடன் இணைத்து தமிழ் மொழி பயன்பாடுகளுக்கு எவ்வாறு பயன்படுத்துவது என்பதை நாங்கள் விளக்குகிறோம். சூத்ரா மாடல் தமிழ் உள்ளிட்ட பல மொழிகளில் உள்ளடக்கத்தை உருவாக்குவதிலும் புரிந்து கொள்வதிலும் சிறந்து விளங்குகிறது, இதனால் தமிழ் மொழி பணிகளுக்கு இது ஒரு சிறந்த தேர்வாக உள்ளது.\n",
        "\n",
        "### நீங்கள் கற்பவை\n",
        "\n",
        "* ஓபன்AI கிளையன்டை சூத்ரா மாடலுடன் அமைப்பது\n",
        "* தமிழில் ப்ராம்ப்ட்கள் உருவாக்குதல் மற்றும் பதில்களைப் புரிந்து கொள்ளுதல்\n",
        "* தமிழ் மொழியில் பல்வேறு பயன்பாட்டு நிகழ்வுகளை ஆராய்தல்\n",
        "* தமிழில் உள்ளடக்க உருவாக்கத்திற்கான சிறந்த நடைமுறைகள்\n"
      ]
    },
    {
      "cell_type": "markdown",
      "metadata": {
        "id": "RNkRXVmul_n5"
      },
      "source": [
        "## API விசையைப் பெறுதல்\n",
        "\n",
        "தொடங்குவதற்கு முன், உங்களிடம் பின்வருவன இருப்பதை உறுதி செய்யவும்:\n",
        "\n",
        "1. ஒரு SUTRA API விசை ([TWO AI இன் SUTRA API பக்கத்தில்](https://www.two.ai/sutra/api) பெறவும்)\n",
        "2. பைத்தான் மற்றும் ஜூபிடர் நோட்புக்குகளின் அடிப்படை அறிவு\n",
        "\n",
        "இந்த நோட்புக் கூகுள் கோலாபில் இயங்க வடிவமைக்கப்பட்டுள்ளது, எனவே உள்ளூர் பைத்தான் நிறுவல் தேவையில்லை."
      ]
    },
    {
      "cell_type": "markdown",
      "metadata": {
        "id": "k8I8APqau_yf"
      },
      "source": [
        "## அமைப்பு\n",
        "முதலில், தேவையான நூலகங்களை நிறுவவும்."
      ]
    },
    {
      "cell_type": "code",
      "execution_count": null,
      "metadata": {
        "id": "tTLnrtjovTiG"
      },
      "outputs": [],
      "source": [
        "# தேவையான பேக்கேஜ்களை நிறுவவும்\n",
        "!pip install openai"
      ]
    },
    {
      "cell_type": "markdown",
      "metadata": {
        "id": "yeHEtpG8vbCS"
      },
      "source": [
        "### தேவையான நூலகங்களை இறக்குமதி செய்யவும்\n"
      ]
    },
    {
      "cell_type": "code",
      "execution_count": null,
      "metadata": {
        "id": "WwFyn2fivcsW"
      },
      "outputs": [],
      "source": [
        "# தேவையான நூலகங்களை இறக்குமதி செய்யவும்\n",
        "import os\n",
        "import time\n",
        "from openai import OpenAI\n",
        "from IPython.display import display, Markdown, HTML\n",
        "from google.colab import userdata"
      ]
    },
    {
      "cell_type": "markdown",
      "metadata": {
        "id": "QHR9CHddvr_C"
      },
      "source": [
        "## அங்கீகாரம்\n",
        "சூத்ரா API ஐப் பயன்படுத்த, உங்கள் API விசையை அமைக்க வேண்டும்.\n",
        "\n"
      ]
    },
    {
      "cell_type": "code",
      "execution_count": null,
      "metadata": {
        "id": "LKpXC_pTv8mq"
      },
      "outputs": [],
      "source": [
        "# குறியீட்டில் பயன்படுத்த விரும்பினால், உதாரணமாக:\n",
        "os.environ[\"SUTRA_API_KEY\"] = userdata.get('SUTRA_API_KEY')"
      ]
    },
    {
      "cell_type": "markdown",
      "metadata": {
        "id": "WOS3DVEuwELW"
      },
      "source": [
        "## சூத்ரா API முடிவுப் புள்ளியுடன் ஓபன்AI கிளையன்டை உருவாக்கவும்\n"
      ]
    },
    {
      "cell_type": "code",
      "execution_count": null,
      "metadata": {
        "id": "KOk5-vyKwFfc"
      },
      "outputs": [],
      "source": [
        "# சூத்ரா API முடிவுப் புள்ளியுடன் ஓபன்AI கிளையன்டை உருவாக்கவும்\n",
        "client = OpenAI(\n",
        "    base_url=\"https://api.two.ai/v2\",\n",
        "    api_key=os.environ.get(\"SUTRA_API_KEY\")\n",
        ")"
      ]
    },
    {
      "cell_type": "markdown",
      "metadata": {
        "id": "egWJTPP-wRVr"
      },
      "source": [
        "## உதவி செயல்பாடுகள்\n",
        "\n",
        "தமிழ் மொழி பணிகளுக்கு சூத்ரா API உடன் தொடர்பு கொள்ள உதவி செயல்பாடுகளை உருவாக்கவும்."
      ]
    },
    {
      "cell_type": "code",
      "execution_count": null,
      "metadata": {
        "id": "g9wHZIgAwTHA"
      },
      "outputs": [],
      "source": [
        "import time\n",
        "from IPython.display import display, HTML\n",
        "\n",
        "def get_sutra_response(prompt, model=\"sutra-v2\", temperature=0.7, max_tokens=1024):\n",
        "    \"\"\"சூத்ரா AI இலிருந்து எளிய ஸ்ட்ரீமிங் இல்லாத பதில்\"\"\"\n",
        "    try:\n",
        "        start_time = time.time()\n",
        "\n",
        "        # அடிப்படை API அழைப்பு\n",
        "        response = client.chat.completions.create(\n",
        "            model=model,\n",
        "            messages=[{\"role\": \"user\", \"content\": prompt}],\n",
        "            temperature=temperature,\n",
        "            max_tokens=max_tokens\n",
        "        )\n",
        "\n",
        "        # பதில் உள்ளடக்கத்தைப் பெறவும்\n",
        "        result = response.choices[0].message.content\n",
        "        time_taken = time.time() - start_time\n",
        "\n",
        "        # எளிய காட்சி\n",
        "        print(f\"ப்ராம்ப்ட்: {prompt}\")\n",
        "        print(f\"பதில்: {result}\")\n",
        "        print(f\"நேரம் எடுத்தது: {time_taken:.2f} வினாடிகள்\")\n",
        "\n",
        "        return result, time_taken\n",
        "\n",
        "    except Exception as e:\n",
        "        error_msg = f\"பிழை: {str(e)}\"\n",
        "        print(error_msg)\n",
        "        return error_msg, 0\n",
        "\n",
        "def get_sutra_streaming_response(prompt, model=\"sutra-v2\", temperature=0.7, max_tokens=1024):\n",
        "    \"\"\"சூத்ரா AI இலிருந்து எளிய ஸ்ட்ரீமிங் பதில்\"\"\"\n",
        "    try:\n",
        "        start_time = time.time()\n",
        "\n",
        "        # ஸ்ட்ரீமிங் தொடங்கவும்\n",
        "        stream = client.chat.completions.create(\n",
        "            model=model,\n",
        "            messages=[{\"role\": \"user\", \"content\": prompt}],\n",
        "            temperature=temperature,\n",
        "            max_tokens=max_tokens,\n",
        "            stream=True\n",
        "        )\n",
        "\n",
        "        print(f\"ப்ராம்ப்ட்: {prompt}\")\n",
        "        print(\"பதில்: \", end=\"\")\n",
        "\n",
        "        full_response = \"\"\n",
        "\n",
        "        # துண்டுகளை வரிசையாக காட்டவும்\n",
        "        for chunk in stream:\n",
        "            if chunk.choices[0].delta.content:\n",
        "                content = chunk.choices[0].delta.content\n",
        "                print(content, end=\"\", flush=True)\n",
        "                full_response += content\n",
        "\n",
        "        time_taken = time.time() - start_time\n",
        "        print(f\"\\nநேரம் எடுத்தது: {time_taken:.2f} வினாடிகள்\")\n",
        "\n",
        "        return full_response\n",
        "\n",
        "    except Exception as e:\n",
        "        error_msg = f\"பிழை: {str(e)}\"\n",
        "        print(error_msg)\n",
        "        return error_msg"
      ]
    },
    {
      "cell_type": "markdown",
      "metadata": {
        "id": "N0qX54OAwmhP"
      },
      "source": [
        "## 1. அடிப்படை தமிழ் உரை உருவாக்கம்\n",
        "\n",
        "சூத்ராவைப் பயன்படுத்தி அடிப்படை தமிழ் உரை உருவாக்கத்தின் சில எடுத்துக்காட்டுகளுடன் தொடங்குவோம்."
      ]
    },
    {
      "cell_type": "code",
      "execution_count": null,
      "metadata": {
        "id": "EPLSpKS0wuaI"
      },
      "outputs": [],
      "source": [
        "# எளிய தமிழ் உரை உருவாக்கம்\n",
        "tamil_prompt = \"வணக்கம், என் பெயர் ரமேஷ். நீங்கள் நலமா?\"\n",
        "\n",
        "response, time_taken = get_sutra_response(tamil_prompt)"
      ]
    },
    {
      "cell_type": "markdown",
      "metadata": {
        "id": "KkXLy8Nqw3TP"
      },
      "source": [
        "## 2. தமிழில் தகவல் மீட்டெடுப்பு\n",
        "\n",
        "தமிழில் தகவல்களை மீட்டெடுக்க சூத்ராவைப் பயன்படுத்துவோம்."
      ]
    },
    {
      "cell_type": "code",
      "execution_count": null,
      "metadata": {
        "id": "5g6F0iuw449"
      },
      "outputs": [],
      "source": [
        "# தமிழில் தகவல் மீட்டெடுப்பு\n",
        "info_prompt = \"தமிழ்நாட்டின் ஐந்து முக்கிய பண்டிகைகளைப் பற்றி கூறவும், அவற்றின் முக்கியத்துவத்தையும் வலியுறுத்தவும்.\"\n",
        "\n",
        "response, time_taken = get_sutra_response(info_prompt)"
      ]
    },
    {
      "cell_type": "markdown",
      "metadata": {
        "id": "Rn_QyFgoxH-Y"
      },
      "source": [
        "## 3. தமிழில் படைப்பு எழுத்து\n",
        "\n",
        "சூத்ரா தமிழில் படைப்பு உள்ளடக்கத்தை உருவாக்க முடியும்."
      ]
    },
    {
      "cell_type": "code",
      "execution_count": null,
      "metadata": {
        "id": "rYCDHgDAxO9y"
      },
      "outputs": [],
      "source": [
        "# தமிழில் படைப்பு எழுத்து\n",
        "creative_prompt = \"நீலகிரி மலைகளைப் பற்றி ஒரு குறுகிய கவிதை எழுதவும்.\"\n",
        "\n",
        "response, time_taken = get_sutra_response(creative_prompt, temperature=0.8)"
      ]
    },
    {
      "cell_type": "markdown",
      "metadata": {
        "id": "I2IhAC0dxVvp"
      },
      "source": [
        "## 4. தமிழில் சுருக்கம்\n",
        "\n",
        "சூத்ரா தமிழ் உரையை திறம்பட சுருக்க முடியும்."
      ]
    },
    {
      "cell_type": "code",
      "execution_count": null,
      "metadata": {
        "id": "ZP-cy9LmxVZ9"
      },
      "outputs": [],
      "source": [
        "# சுருக்கத்திற்கான உரை\n",
        "long_text = \"\"\"\n",
        "தமிழ்நாட்டின் வரலாறு நீண்ட மற்றும் சிக்கலானது. பிரிட்டிஷ் ஆட்சி 17ஆம் நூற்றாண்டில் சென்னையில் தொடங்கியது, மேலும் பின்னர் முழு தமிழ்நாட்டையும் உள்ளடக்கியது. 1857ஆம் ஆண்டு முதல் சுதந்திரப் போர் என அழைக்கப்படும் வீரப்போராட்டம் பிரிட்டிஷ் ஆட்சிக்கு எதிரான முதல் பெரிய கிளர்ச்சியாக இருந்தது.\n",
        "\n",
        "இந்திய தேசிய காங்கிரஸ் 1885இல் உருவாக்கப்பட்டு, சுதந்திர இயக்கம் மிகவும் ஒழுங்கமைக்கப்பட்டது. மகாத்மா காந்தியின் தலைமையில், அகிம்சை எதிர்ப்பு மற்றும் சத்தியாகிரகம் மூலம் சுதந்திரம் கோரப்பட்டது.\n",
        "\n",
        "1947ஆம் ஆண்டு ஆகஸ்ட் 15இல் இந்தியா சுதந்திரம் பெற்றது, ஆனால் இந்தியாவும் பாகிஸ்தானாகவும் பிரிக்கப்பட்டது.\n",
        "\"\"\"\n",
        "\n",
        "summarize_prompt = f\"பின்வரும் உரையை 100 சொற்களுக்கு உட்பட்டு சுருக்கவும்:\\n\\n{long_text}\"\n",
        "\n",
        "summary, time_taken = get_sutra_response(summarize_prompt, temperature=0.3)"
      ]
    },
    {
      "cell_type": "markdown",
      "metadata": {
        "id": "-W82E6wGxkJX"
      },
      "source": [
        "## 5. தமிழில் கேள்வி-பதில்\n",
        "\n",
        "தமிழில் கேள்வி-பதில் செய்ய சூத்ராவைப் பயன்படுத்துவோம்."
      ]
    },
    {
      "cell_type": "code",
      "execution_count": null,
      "metadata": {
        "id": "eLW7llmBxsKZ"
      },
      "outputs": [],
      "source": [
        "# கேள்வி-பதிலுக்கான சூழல்\n",
        "context = \"\"\"\n",
        "இந்திய அரசியலமைப்பு உலகின் மிக நீளமான எழுதப்பட்ட அரசியலமைப்பு ஆகும். இது 1949 நவம்பர் 26இல் ஏற்றுக்கொள்ளப்பட்டு, 1950 ஜனவரி 26இல் நடைமுறைக்கு வந்தது. டாக்டர் பி.ஆர். அம்பேத்கர் இந்திய அரசியலமைப்பின் முதன்மை வடிவமைப்பாளராகக் கருதப்படுகிறார். முதலில் 395 பிரிவுகள், 22 பகுதிகள் மற்றும் 8 அட்டவணைகள் இருந்தன. தற்போது 448 பிரிவுகள், 25 பகுதிகள் மற்றும் 12 அட்டவணைகள் உள்ளன. 1976ஆம் ஆண்டு 42ஆவது திருத்தத்தால் முகவுரையில் 'சோசலிஸ்ட்', 'மதச்சார்பற்ற' மற்றும் 'ஒருமைப்பாடு' என்ற சொற்கள் சேர்க்கப்பட்டன.\n",
        "\"\"\"\n",
        "\n",
        "qa_prompt = f\"பின்வரும் தகவல்களின் அடிப்படையில் கேள்விகளுக்கு பதிலளிக்கவும்:\\n\\n{context}\\n\\nகேள்வி 1: இந்திய அரசியலமைப்பு எப்போது நடைமுறைக்கு வந்தது?\\nகேள்வி 2: இந்திய அரசியலமைப்பின் முதன்மை வடிவமைப்பாளர் யார்?\\nகேள்வி 3: 42ஆவது திருத்தத்தால் முகவுரையில் எந்த சொற்கள் சேர்க்கப்பட்டன?\"\n",
        "\n",
        "answers, time_taken = get_sutra_response(qa_prompt, temperature=0.2)"
      ]
    },
    {
      "cell_type": "markdown",
      "metadata": {
        "id": "uivkOeA3xr1v"
      },
      "source": [
        "## 6. தமிழ்-ஆங்கில மொழிபெயர்ப்பு\n",
        "\n",
        "சூத்ரா தமிழுக்கும் ஆங்கிலத்திற்கும் இடையே திறம்பட மொழிபெயர்க்க முடியும்."
      ]
    },
    {
      "cell_type": "code",
      "execution_count": null,
      "metadata": {
        "id": "zJRRLM-Uy100"
      },
      "outputs": [],
      "source": [
        "# தமிழிலிருந்து ஆங்கிலத்திற்கு மொழிபெயர்ப்பு\n",
        "tamil_text = \"தமிழ்நாடு பல்வேறு கலாச்சாரங்கள் மற்றும் பாரம்பரியங்களைக் கொண்ட மாநிலமாகும். அதன் இயற்கை அழகு மற்றும் வரலாறு உலகம் முழுவதிலிருந்து பயணிகளை ஈர்க்கிறது.\"\n",
        "\n",
        "translate_ta_to_en_prompt = f\"பின்வரும் தமிழ் உரையை ஆங்கிலத்திற்கு மொழிபெயர்க்கவும்:\\n\\n{tamil_text}\"\n",
        "\n",
        "translation_en, time_taken = get_sutra_response(translate_ta_to_en_prompt)"
      ]
    },
    {
      "cell_type": "code",
      "execution_count": null,
      "metadata": {
        "id": "IQ45bUeRiakr"
      },
      "outputs": [],
      "source": [
        "# ஆங்கிலத்திலிருந்து தமிழுக்கு மொழிபெயர்ப்பு\n",
        "english_text = \"Artificial intelligence is transforming the way we live and work. It has applications in healthcare, education, transportation, and many other fields.\"\n",
        "\n",
        "translate_en_to_ta_prompt = f\"பின்வரும் ஆங்கில உரையை தமிழுக்கு மொழிபெயர்க்கவும்:\\n\\n{english_text}\"\n",
        "\n",
        "translation_ta, time_taken = get_sutra_response(translate_en_to_ta_prompt)"
      ]
    },
    {
      "cell_type": "markdown",
      "metadata": {
        "id": "bK7_DhcOi5hP"
      },
      "source": [
        "## 7. தமிழில் உணர்வு பகுப்பாய்வு\n",
        "\n",
        "தமிழ் உரையில் உணர்வு பகுப்பாய்வு செய்ய சூத்ராவைப் பயன்படுத்துவோம்."
      ]
    },
    {
      "cell_type": "code",
      "execution_count": null,
      "metadata": {
        "id": "aYs1qwsijESm"
      },
      "outputs": [],
      "source": [
        "# உணர்வு பகுப்பாய்வுக்கான தமிழ் மதிப்புரைகள்\n",
        "reviews = [\n",
        "    \"இந்த திரைப்படம் மிகவும் நன்றாக இருந்தது. கதை ஈர்க்கக்கூடியதாகவும், நடிப்பு சிறப்பாகவும் இருந்தது.\",\n",
        "    \"உணவு சுவையாக இல்லை, சேவையும் மிகவும் மோசமாக இருந்தது.\",\n",
        "    \"இந்த பொருள் ஓரளவு நன்றாக உள்ளது, ஆனால் விலை சற்று அதிகம்.\",\n",
        "    \"இந்த புத்தகம் எனக்கு பிடித்தது, ஆசிரியர் தலைப்பை மிகவும் நன்றாக விளக்கியுள்ளார்.\",\n",
        "    \"பயணம் ஏமாற்றமாக இருந்தது, ஹோட்டல் அழுக்காக இருந்தது, பணியாளர்கள் நட்பற்றவர்களாக இருந்தனர்.\"\n",
        "]\n",
        "\n",
        "sentiment_prompt = \"பின்வரும் தமிழ் மதிப்புரைகளுக்கு உணர்வு பகுப்பாய்வு செய்து, ஒவ்வொன்றையும் 'நேர்மறை', 'எதிர்மறை' அல்லது 'நடுநிலை' என வகைப்படுத்தவும்:\\n\\n\"\n",
        "\n",
        "for i, review in enumerate(reviews):\n",
        "    sentiment_prompt += f\"{i+1}. {review}\\n\"\n",
        "\n",
        "sentiment_analysis, time_taken = get_sutra_response(sentiment_prompt, temperature=0.1)"
      ]
    },
    {
      "cell_type": "markdown",
      "metadata": {
        "id": "JS3SjqAijLiS"
      },
      "source": [
        "## 8. பல்வேறு வடிவங்களில் தமிழ் உள்ளடக்க உருவாக்கம்\n",
        "\n",
        "சூத்ரா தமிழில் பல்வேறு வடிவங்களில் உள்ளடக்கத்தை உருவாக்க முடியும்."
      ]
    },
    {
      "cell_type": "code",
      "execution_count": null,
      "metadata": {
        "id": "HapYgv8ljTOU"
      },
      "outputs": [],
      "source": [
        "# தமிழில் வலைப்பதிவு இடுகையை உருவாக்கவும்\n",
        "blog_prompt = \"'தமிழ் உணவு மற்றும் அதன் ஆரோக்கியத்தில் தாக்கம்' என்ற தலைப்பில் ஒரு வலைப்பதிவு இடுகையை எழுதவும். தலைப்பு, அறிமுகம், முக்கிய புள்ளிகள் மற்றும் முடிவு ஆகியவற்றை உள்ளடக்கவும்.\"\n",
        "\n",
        "blog_post = get_sutra_streaming_response(blog_prompt, temperature=0.7)"
      ]
    },
    {
      "cell_type": "markdown",
      "metadata": {
        "id": "upllGp8ijbQL"
      },
      "source": [
        "## 9. முடிவு\n",
        "\n",
        "இந்த நோட்புக்கில், ஓபன்AI கிளையன்டுடன் சூத்ரா மாடலை **தமிழ் மொழி பயன்பாடுகளுக்கு** பயன்படுத்துவதை ஆராய்ந்தோம். பின்வரும் பல்வேறு பயன்பாட்டு நிகழ்வுகளை உள்ளடக்கினோம்:\n",
        "\n",
        "* அடிப்படை தமிழ் உரை உருவாக்கம்\n",
        "* தமிழில் தகவல் மீட்டெடுப்பு\n",
        "* தமிழில் படைப்பு எழுத்து\n",
        "* தமிழ் உரை சுருக்கம்\n",
        "* தமிழில் கேள்வி-பதில்\n",
        "* தமிழ்-ஆங்கில மொழிபெயர்ப்பு\n",
        "* தமிழில் உணர்வு பகுப்பாய்வு\n",
        "* பல்வேறு வடிவங்களில் தமிழ் உள்ளடக்க உருவாக்கம்\n",
        "\n",
        "சூத்ராவின் தமிழ் மற்றும் பிற மொழிகளில் உள்ள வலுவான திறன்கள், தமிழ் பேசும் பயனர்களை இலக்காகக் கொண்ட பயன்பாடுகளுக்கு அல்லது தமிழ் மொழி புரிந்து கொள்ளுதல் தேவைப்படும் பயன்பாடுகளுக்கு இதை ஒரு சிறந்த தேர்வாக ஆக்குகிறது.\n",
        "\n"
      ]
    },
    {
      "cell_type": "markdown",
      "metadata": {
        "id": "bTS6yWexjrpl"
      },
      "source": [
        "## 10. கூடுதல் ஆதாரங்கள்\n",
        "\n",
        "**தமிழ் மொழியில்** சூத்ராவைப் பயன்படுத்துவது பற்றி மேலும் அறிய, பின்வரும் ஆதாரங்களைப் பார்க்கவும்:\n",
        "\n",
        "1. [சூத்ரா API ஆவணங்கள்](https://docs.two.ai)\n",
        "2. [சூத்ரா மாடல் மாறுபாடுகள்](https://docs.two.ai/models)\n",
        "3. [பன்மொழி திறன்கள் பற்றி மேலும்](https://docs.two.ai/multilingual)\n",
        "\n",
        "**தமிழ்** மற்றும் பிற மொழிகளில் சூத்ராவைப் பயன்படுத்தி உங்கள் சொந்த பயன்பாடுகளை உருவாக்க ஊக்குவிக்கப்படுகிறீர்கள்!\n",
        "\n"
      ]
    }
  ],
  "metadata": {
    "colab": {
      "provenance": []
    },
    "kernelspec": {
      "display_name": "Python 3",
      "name": "python3"
    },
    "language_info": {
      "name": "python"
    }
  },
  "nbformat": 4,
  "nbformat_minor": 0
}
